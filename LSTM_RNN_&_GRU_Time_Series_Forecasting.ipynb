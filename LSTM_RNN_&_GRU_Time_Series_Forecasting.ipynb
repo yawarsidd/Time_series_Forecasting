{
  "nbformat": 4,
  "nbformat_minor": 0,
  "metadata": {
    "colab": {
      "provenance": []
    },
    "kernelspec": {
      "name": "python3",
      "display_name": "Python 3"
    },
    "language_info": {
      "name": "python"
    }
  },
  "cells": [
    {
      "cell_type": "code",
      "execution_count": 43,
      "metadata": {
        "id": "KVfK7thJGkrO"
      },
      "outputs": [],
      "source": [
        "import numpy as np\n",
        "import pandas as pd\n",
        "from tensorflow.keras.layers import Dropout\n",
        "from tensorflow.keras.models import Sequential\n",
        "from tensorflow.keras.layers import LSTM, Dense\n",
        "from tensorflow.keras.layers import GRU, Dense\n",
        "%matplotlib inline"
      ]
    },
    {
      "cell_type": "code",
      "source": [
        "data = pd.read_csv('Tractor-Sales.csv')"
      ],
      "metadata": {
        "id": "H66RzLlnPOfV"
      },
      "execution_count": 2,
      "outputs": []
    },
    {
      "cell_type": "code",
      "source": [
        "data.head()"
      ],
      "metadata": {
        "colab": {
          "base_uri": "https://localhost:8080/",
          "height": 206
        },
        "id": "vMiwwSlwPSsT",
        "outputId": "d2bf68ff-9b00-4c60-9a64-fd78f970d402"
      },
      "execution_count": 3,
      "outputs": [
        {
          "output_type": "execute_result",
          "data": {
            "text/plain": [
              "  Month-Year  Number of Tractor Sold\n",
              "0     Jan-03                     141\n",
              "1     Feb-03                     157\n",
              "2     Mar-03                     185\n",
              "3     Apr-03                     199\n",
              "4     May-03                     203"
            ],
            "text/html": [
              "\n",
              "  <div id=\"df-5beaca7d-110b-469a-87c9-2d2df848efa5\" class=\"colab-df-container\">\n",
              "    <div>\n",
              "<style scoped>\n",
              "    .dataframe tbody tr th:only-of-type {\n",
              "        vertical-align: middle;\n",
              "    }\n",
              "\n",
              "    .dataframe tbody tr th {\n",
              "        vertical-align: top;\n",
              "    }\n",
              "\n",
              "    .dataframe thead th {\n",
              "        text-align: right;\n",
              "    }\n",
              "</style>\n",
              "<table border=\"1\" class=\"dataframe\">\n",
              "  <thead>\n",
              "    <tr style=\"text-align: right;\">\n",
              "      <th></th>\n",
              "      <th>Month-Year</th>\n",
              "      <th>Number of Tractor Sold</th>\n",
              "    </tr>\n",
              "  </thead>\n",
              "  <tbody>\n",
              "    <tr>\n",
              "      <th>0</th>\n",
              "      <td>Jan-03</td>\n",
              "      <td>141</td>\n",
              "    </tr>\n",
              "    <tr>\n",
              "      <th>1</th>\n",
              "      <td>Feb-03</td>\n",
              "      <td>157</td>\n",
              "    </tr>\n",
              "    <tr>\n",
              "      <th>2</th>\n",
              "      <td>Mar-03</td>\n",
              "      <td>185</td>\n",
              "    </tr>\n",
              "    <tr>\n",
              "      <th>3</th>\n",
              "      <td>Apr-03</td>\n",
              "      <td>199</td>\n",
              "    </tr>\n",
              "    <tr>\n",
              "      <th>4</th>\n",
              "      <td>May-03</td>\n",
              "      <td>203</td>\n",
              "    </tr>\n",
              "  </tbody>\n",
              "</table>\n",
              "</div>\n",
              "    <div class=\"colab-df-buttons\">\n",
              "\n",
              "  <div class=\"colab-df-container\">\n",
              "    <button class=\"colab-df-convert\" onclick=\"convertToInteractive('df-5beaca7d-110b-469a-87c9-2d2df848efa5')\"\n",
              "            title=\"Convert this dataframe to an interactive table.\"\n",
              "            style=\"display:none;\">\n",
              "\n",
              "  <svg xmlns=\"http://www.w3.org/2000/svg\" height=\"24px\" viewBox=\"0 -960 960 960\">\n",
              "    <path d=\"M120-120v-720h720v720H120Zm60-500h600v-160H180v160Zm220 220h160v-160H400v160Zm0 220h160v-160H400v160ZM180-400h160v-160H180v160Zm440 0h160v-160H620v160ZM180-180h160v-160H180v160Zm440 0h160v-160H620v160Z\"/>\n",
              "  </svg>\n",
              "    </button>\n",
              "\n",
              "  <style>\n",
              "    .colab-df-container {\n",
              "      display:flex;\n",
              "      gap: 12px;\n",
              "    }\n",
              "\n",
              "    .colab-df-convert {\n",
              "      background-color: #E8F0FE;\n",
              "      border: none;\n",
              "      border-radius: 50%;\n",
              "      cursor: pointer;\n",
              "      display: none;\n",
              "      fill: #1967D2;\n",
              "      height: 32px;\n",
              "      padding: 0 0 0 0;\n",
              "      width: 32px;\n",
              "    }\n",
              "\n",
              "    .colab-df-convert:hover {\n",
              "      background-color: #E2EBFA;\n",
              "      box-shadow: 0px 1px 2px rgba(60, 64, 67, 0.3), 0px 1px 3px 1px rgba(60, 64, 67, 0.15);\n",
              "      fill: #174EA6;\n",
              "    }\n",
              "\n",
              "    .colab-df-buttons div {\n",
              "      margin-bottom: 4px;\n",
              "    }\n",
              "\n",
              "    [theme=dark] .colab-df-convert {\n",
              "      background-color: #3B4455;\n",
              "      fill: #D2E3FC;\n",
              "    }\n",
              "\n",
              "    [theme=dark] .colab-df-convert:hover {\n",
              "      background-color: #434B5C;\n",
              "      box-shadow: 0px 1px 3px 1px rgba(0, 0, 0, 0.15);\n",
              "      filter: drop-shadow(0px 1px 2px rgba(0, 0, 0, 0.3));\n",
              "      fill: #FFFFFF;\n",
              "    }\n",
              "  </style>\n",
              "\n",
              "    <script>\n",
              "      const buttonEl =\n",
              "        document.querySelector('#df-5beaca7d-110b-469a-87c9-2d2df848efa5 button.colab-df-convert');\n",
              "      buttonEl.style.display =\n",
              "        google.colab.kernel.accessAllowed ? 'block' : 'none';\n",
              "\n",
              "      async function convertToInteractive(key) {\n",
              "        const element = document.querySelector('#df-5beaca7d-110b-469a-87c9-2d2df848efa5');\n",
              "        const dataTable =\n",
              "          await google.colab.kernel.invokeFunction('convertToInteractive',\n",
              "                                                    [key], {});\n",
              "        if (!dataTable) return;\n",
              "\n",
              "        const docLinkHtml = 'Like what you see? Visit the ' +\n",
              "          '<a target=\"_blank\" href=https://colab.research.google.com/notebooks/data_table.ipynb>data table notebook</a>'\n",
              "          + ' to learn more about interactive tables.';\n",
              "        element.innerHTML = '';\n",
              "        dataTable['output_type'] = 'display_data';\n",
              "        await google.colab.output.renderOutput(dataTable, element);\n",
              "        const docLink = document.createElement('div');\n",
              "        docLink.innerHTML = docLinkHtml;\n",
              "        element.appendChild(docLink);\n",
              "      }\n",
              "    </script>\n",
              "  </div>\n",
              "\n",
              "\n",
              "<div id=\"df-ac571bb7-2bd2-4b46-a006-aa16e54609ec\">\n",
              "  <button class=\"colab-df-quickchart\" onclick=\"quickchart('df-ac571bb7-2bd2-4b46-a006-aa16e54609ec')\"\n",
              "            title=\"Suggest charts\"\n",
              "            style=\"display:none;\">\n",
              "\n",
              "<svg xmlns=\"http://www.w3.org/2000/svg\" height=\"24px\"viewBox=\"0 0 24 24\"\n",
              "     width=\"24px\">\n",
              "    <g>\n",
              "        <path d=\"M19 3H5c-1.1 0-2 .9-2 2v14c0 1.1.9 2 2 2h14c1.1 0 2-.9 2-2V5c0-1.1-.9-2-2-2zM9 17H7v-7h2v7zm4 0h-2V7h2v10zm4 0h-2v-4h2v4z\"/>\n",
              "    </g>\n",
              "</svg>\n",
              "  </button>\n",
              "\n",
              "<style>\n",
              "  .colab-df-quickchart {\n",
              "      --bg-color: #E8F0FE;\n",
              "      --fill-color: #1967D2;\n",
              "      --hover-bg-color: #E2EBFA;\n",
              "      --hover-fill-color: #174EA6;\n",
              "      --disabled-fill-color: #AAA;\n",
              "      --disabled-bg-color: #DDD;\n",
              "  }\n",
              "\n",
              "  [theme=dark] .colab-df-quickchart {\n",
              "      --bg-color: #3B4455;\n",
              "      --fill-color: #D2E3FC;\n",
              "      --hover-bg-color: #434B5C;\n",
              "      --hover-fill-color: #FFFFFF;\n",
              "      --disabled-bg-color: #3B4455;\n",
              "      --disabled-fill-color: #666;\n",
              "  }\n",
              "\n",
              "  .colab-df-quickchart {\n",
              "    background-color: var(--bg-color);\n",
              "    border: none;\n",
              "    border-radius: 50%;\n",
              "    cursor: pointer;\n",
              "    display: none;\n",
              "    fill: var(--fill-color);\n",
              "    height: 32px;\n",
              "    padding: 0;\n",
              "    width: 32px;\n",
              "  }\n",
              "\n",
              "  .colab-df-quickchart:hover {\n",
              "    background-color: var(--hover-bg-color);\n",
              "    box-shadow: 0 1px 2px rgba(60, 64, 67, 0.3), 0 1px 3px 1px rgba(60, 64, 67, 0.15);\n",
              "    fill: var(--button-hover-fill-color);\n",
              "  }\n",
              "\n",
              "  .colab-df-quickchart-complete:disabled,\n",
              "  .colab-df-quickchart-complete:disabled:hover {\n",
              "    background-color: var(--disabled-bg-color);\n",
              "    fill: var(--disabled-fill-color);\n",
              "    box-shadow: none;\n",
              "  }\n",
              "\n",
              "  .colab-df-spinner {\n",
              "    border: 2px solid var(--fill-color);\n",
              "    border-color: transparent;\n",
              "    border-bottom-color: var(--fill-color);\n",
              "    animation:\n",
              "      spin 1s steps(1) infinite;\n",
              "  }\n",
              "\n",
              "  @keyframes spin {\n",
              "    0% {\n",
              "      border-color: transparent;\n",
              "      border-bottom-color: var(--fill-color);\n",
              "      border-left-color: var(--fill-color);\n",
              "    }\n",
              "    20% {\n",
              "      border-color: transparent;\n",
              "      border-left-color: var(--fill-color);\n",
              "      border-top-color: var(--fill-color);\n",
              "    }\n",
              "    30% {\n",
              "      border-color: transparent;\n",
              "      border-left-color: var(--fill-color);\n",
              "      border-top-color: var(--fill-color);\n",
              "      border-right-color: var(--fill-color);\n",
              "    }\n",
              "    40% {\n",
              "      border-color: transparent;\n",
              "      border-right-color: var(--fill-color);\n",
              "      border-top-color: var(--fill-color);\n",
              "    }\n",
              "    60% {\n",
              "      border-color: transparent;\n",
              "      border-right-color: var(--fill-color);\n",
              "    }\n",
              "    80% {\n",
              "      border-color: transparent;\n",
              "      border-right-color: var(--fill-color);\n",
              "      border-bottom-color: var(--fill-color);\n",
              "    }\n",
              "    90% {\n",
              "      border-color: transparent;\n",
              "      border-bottom-color: var(--fill-color);\n",
              "    }\n",
              "  }\n",
              "</style>\n",
              "\n",
              "  <script>\n",
              "    async function quickchart(key) {\n",
              "      const quickchartButtonEl =\n",
              "        document.querySelector('#' + key + ' button');\n",
              "      quickchartButtonEl.disabled = true;  // To prevent multiple clicks.\n",
              "      quickchartButtonEl.classList.add('colab-df-spinner');\n",
              "      try {\n",
              "        const charts = await google.colab.kernel.invokeFunction(\n",
              "            'suggestCharts', [key], {});\n",
              "      } catch (error) {\n",
              "        console.error('Error during call to suggestCharts:', error);\n",
              "      }\n",
              "      quickchartButtonEl.classList.remove('colab-df-spinner');\n",
              "      quickchartButtonEl.classList.add('colab-df-quickchart-complete');\n",
              "    }\n",
              "    (() => {\n",
              "      let quickchartButtonEl =\n",
              "        document.querySelector('#df-ac571bb7-2bd2-4b46-a006-aa16e54609ec button');\n",
              "      quickchartButtonEl.style.display =\n",
              "        google.colab.kernel.accessAllowed ? 'block' : 'none';\n",
              "    })();\n",
              "  </script>\n",
              "</div>\n",
              "\n",
              "    </div>\n",
              "  </div>\n"
            ],
            "application/vnd.google.colaboratory.intrinsic+json": {
              "type": "dataframe",
              "variable_name": "data",
              "summary": "{\n  \"name\": \"data\",\n  \"rows\": 144,\n  \"fields\": [\n    {\n      \"column\": \"Month-Year\",\n      \"properties\": {\n        \"dtype\": \"string\",\n        \"num_unique_values\": 144,\n        \"samples\": [\n          \"Oct-12\",\n          \"Aug-04\",\n          \"Nov-09\"\n        ],\n        \"semantic_type\": \"\",\n        \"description\": \"\"\n      }\n    },\n    {\n      \"column\": \"Number of Tractor Sold\",\n      \"properties\": {\n        \"dtype\": \"number\",\n        \"std\": 171,\n        \"min\": 138,\n        \"max\": 871,\n        \"num_unique_values\": 123,\n        \"samples\": [\n          152,\n          340,\n          381\n        ],\n        \"semantic_type\": \"\",\n        \"description\": \"\"\n      }\n    }\n  ]\n}"
            }
          },
          "metadata": {},
          "execution_count": 3
        }
      ]
    },
    {
      "cell_type": "code",
      "source": [
        "data.columns = ['Month_Year', 'No_Tractors_Sold']"
      ],
      "metadata": {
        "id": "519WurLKPUN5"
      },
      "execution_count": 4,
      "outputs": []
    },
    {
      "cell_type": "code",
      "source": [
        "data['Month_Year'] = pd.to_datetime(data.Month_Year, format='%b-%y')"
      ],
      "metadata": {
        "id": "Zh30iYBsPZjm"
      },
      "execution_count": 5,
      "outputs": []
    },
    {
      "cell_type": "code",
      "source": [
        "data.set_index(data.Month_Year, inplace=True)"
      ],
      "metadata": {
        "id": "tpB9oXYOPeTn"
      },
      "execution_count": 6,
      "outputs": []
    },
    {
      "cell_type": "code",
      "source": [
        "data.head()"
      ],
      "metadata": {
        "colab": {
          "base_uri": "https://localhost:8080/",
          "height": 238
        },
        "id": "wDQshEhBPjP8",
        "outputId": "83efd1af-e01e-4d5d-ce30-432b0d23df40"
      },
      "execution_count": 7,
      "outputs": [
        {
          "output_type": "execute_result",
          "data": {
            "text/plain": [
              "           Month_Year  No_Tractors_Sold\n",
              "Month_Year                             \n",
              "2003-01-01 2003-01-01               141\n",
              "2003-02-01 2003-02-01               157\n",
              "2003-03-01 2003-03-01               185\n",
              "2003-04-01 2003-04-01               199\n",
              "2003-05-01 2003-05-01               203"
            ],
            "text/html": [
              "\n",
              "  <div id=\"df-7a517001-3903-43c1-af5f-4b258854c548\" class=\"colab-df-container\">\n",
              "    <div>\n",
              "<style scoped>\n",
              "    .dataframe tbody tr th:only-of-type {\n",
              "        vertical-align: middle;\n",
              "    }\n",
              "\n",
              "    .dataframe tbody tr th {\n",
              "        vertical-align: top;\n",
              "    }\n",
              "\n",
              "    .dataframe thead th {\n",
              "        text-align: right;\n",
              "    }\n",
              "</style>\n",
              "<table border=\"1\" class=\"dataframe\">\n",
              "  <thead>\n",
              "    <tr style=\"text-align: right;\">\n",
              "      <th></th>\n",
              "      <th>Month_Year</th>\n",
              "      <th>No_Tractors_Sold</th>\n",
              "    </tr>\n",
              "    <tr>\n",
              "      <th>Month_Year</th>\n",
              "      <th></th>\n",
              "      <th></th>\n",
              "    </tr>\n",
              "  </thead>\n",
              "  <tbody>\n",
              "    <tr>\n",
              "      <th>2003-01-01</th>\n",
              "      <td>2003-01-01</td>\n",
              "      <td>141</td>\n",
              "    </tr>\n",
              "    <tr>\n",
              "      <th>2003-02-01</th>\n",
              "      <td>2003-02-01</td>\n",
              "      <td>157</td>\n",
              "    </tr>\n",
              "    <tr>\n",
              "      <th>2003-03-01</th>\n",
              "      <td>2003-03-01</td>\n",
              "      <td>185</td>\n",
              "    </tr>\n",
              "    <tr>\n",
              "      <th>2003-04-01</th>\n",
              "      <td>2003-04-01</td>\n",
              "      <td>199</td>\n",
              "    </tr>\n",
              "    <tr>\n",
              "      <th>2003-05-01</th>\n",
              "      <td>2003-05-01</td>\n",
              "      <td>203</td>\n",
              "    </tr>\n",
              "  </tbody>\n",
              "</table>\n",
              "</div>\n",
              "    <div class=\"colab-df-buttons\">\n",
              "\n",
              "  <div class=\"colab-df-container\">\n",
              "    <button class=\"colab-df-convert\" onclick=\"convertToInteractive('df-7a517001-3903-43c1-af5f-4b258854c548')\"\n",
              "            title=\"Convert this dataframe to an interactive table.\"\n",
              "            style=\"display:none;\">\n",
              "\n",
              "  <svg xmlns=\"http://www.w3.org/2000/svg\" height=\"24px\" viewBox=\"0 -960 960 960\">\n",
              "    <path d=\"M120-120v-720h720v720H120Zm60-500h600v-160H180v160Zm220 220h160v-160H400v160Zm0 220h160v-160H400v160ZM180-400h160v-160H180v160Zm440 0h160v-160H620v160ZM180-180h160v-160H180v160Zm440 0h160v-160H620v160Z\"/>\n",
              "  </svg>\n",
              "    </button>\n",
              "\n",
              "  <style>\n",
              "    .colab-df-container {\n",
              "      display:flex;\n",
              "      gap: 12px;\n",
              "    }\n",
              "\n",
              "    .colab-df-convert {\n",
              "      background-color: #E8F0FE;\n",
              "      border: none;\n",
              "      border-radius: 50%;\n",
              "      cursor: pointer;\n",
              "      display: none;\n",
              "      fill: #1967D2;\n",
              "      height: 32px;\n",
              "      padding: 0 0 0 0;\n",
              "      width: 32px;\n",
              "    }\n",
              "\n",
              "    .colab-df-convert:hover {\n",
              "      background-color: #E2EBFA;\n",
              "      box-shadow: 0px 1px 2px rgba(60, 64, 67, 0.3), 0px 1px 3px 1px rgba(60, 64, 67, 0.15);\n",
              "      fill: #174EA6;\n",
              "    }\n",
              "\n",
              "    .colab-df-buttons div {\n",
              "      margin-bottom: 4px;\n",
              "    }\n",
              "\n",
              "    [theme=dark] .colab-df-convert {\n",
              "      background-color: #3B4455;\n",
              "      fill: #D2E3FC;\n",
              "    }\n",
              "\n",
              "    [theme=dark] .colab-df-convert:hover {\n",
              "      background-color: #434B5C;\n",
              "      box-shadow: 0px 1px 3px 1px rgba(0, 0, 0, 0.15);\n",
              "      filter: drop-shadow(0px 1px 2px rgba(0, 0, 0, 0.3));\n",
              "      fill: #FFFFFF;\n",
              "    }\n",
              "  </style>\n",
              "\n",
              "    <script>\n",
              "      const buttonEl =\n",
              "        document.querySelector('#df-7a517001-3903-43c1-af5f-4b258854c548 button.colab-df-convert');\n",
              "      buttonEl.style.display =\n",
              "        google.colab.kernel.accessAllowed ? 'block' : 'none';\n",
              "\n",
              "      async function convertToInteractive(key) {\n",
              "        const element = document.querySelector('#df-7a517001-3903-43c1-af5f-4b258854c548');\n",
              "        const dataTable =\n",
              "          await google.colab.kernel.invokeFunction('convertToInteractive',\n",
              "                                                    [key], {});\n",
              "        if (!dataTable) return;\n",
              "\n",
              "        const docLinkHtml = 'Like what you see? Visit the ' +\n",
              "          '<a target=\"_blank\" href=https://colab.research.google.com/notebooks/data_table.ipynb>data table notebook</a>'\n",
              "          + ' to learn more about interactive tables.';\n",
              "        element.innerHTML = '';\n",
              "        dataTable['output_type'] = 'display_data';\n",
              "        await google.colab.output.renderOutput(dataTable, element);\n",
              "        const docLink = document.createElement('div');\n",
              "        docLink.innerHTML = docLinkHtml;\n",
              "        element.appendChild(docLink);\n",
              "      }\n",
              "    </script>\n",
              "  </div>\n",
              "\n",
              "\n",
              "<div id=\"df-0aab169e-79fc-4681-9d8d-a6a38c7aec70\">\n",
              "  <button class=\"colab-df-quickchart\" onclick=\"quickchart('df-0aab169e-79fc-4681-9d8d-a6a38c7aec70')\"\n",
              "            title=\"Suggest charts\"\n",
              "            style=\"display:none;\">\n",
              "\n",
              "<svg xmlns=\"http://www.w3.org/2000/svg\" height=\"24px\"viewBox=\"0 0 24 24\"\n",
              "     width=\"24px\">\n",
              "    <g>\n",
              "        <path d=\"M19 3H5c-1.1 0-2 .9-2 2v14c0 1.1.9 2 2 2h14c1.1 0 2-.9 2-2V5c0-1.1-.9-2-2-2zM9 17H7v-7h2v7zm4 0h-2V7h2v10zm4 0h-2v-4h2v4z\"/>\n",
              "    </g>\n",
              "</svg>\n",
              "  </button>\n",
              "\n",
              "<style>\n",
              "  .colab-df-quickchart {\n",
              "      --bg-color: #E8F0FE;\n",
              "      --fill-color: #1967D2;\n",
              "      --hover-bg-color: #E2EBFA;\n",
              "      --hover-fill-color: #174EA6;\n",
              "      --disabled-fill-color: #AAA;\n",
              "      --disabled-bg-color: #DDD;\n",
              "  }\n",
              "\n",
              "  [theme=dark] .colab-df-quickchart {\n",
              "      --bg-color: #3B4455;\n",
              "      --fill-color: #D2E3FC;\n",
              "      --hover-bg-color: #434B5C;\n",
              "      --hover-fill-color: #FFFFFF;\n",
              "      --disabled-bg-color: #3B4455;\n",
              "      --disabled-fill-color: #666;\n",
              "  }\n",
              "\n",
              "  .colab-df-quickchart {\n",
              "    background-color: var(--bg-color);\n",
              "    border: none;\n",
              "    border-radius: 50%;\n",
              "    cursor: pointer;\n",
              "    display: none;\n",
              "    fill: var(--fill-color);\n",
              "    height: 32px;\n",
              "    padding: 0;\n",
              "    width: 32px;\n",
              "  }\n",
              "\n",
              "  .colab-df-quickchart:hover {\n",
              "    background-color: var(--hover-bg-color);\n",
              "    box-shadow: 0 1px 2px rgba(60, 64, 67, 0.3), 0 1px 3px 1px rgba(60, 64, 67, 0.15);\n",
              "    fill: var(--button-hover-fill-color);\n",
              "  }\n",
              "\n",
              "  .colab-df-quickchart-complete:disabled,\n",
              "  .colab-df-quickchart-complete:disabled:hover {\n",
              "    background-color: var(--disabled-bg-color);\n",
              "    fill: var(--disabled-fill-color);\n",
              "    box-shadow: none;\n",
              "  }\n",
              "\n",
              "  .colab-df-spinner {\n",
              "    border: 2px solid var(--fill-color);\n",
              "    border-color: transparent;\n",
              "    border-bottom-color: var(--fill-color);\n",
              "    animation:\n",
              "      spin 1s steps(1) infinite;\n",
              "  }\n",
              "\n",
              "  @keyframes spin {\n",
              "    0% {\n",
              "      border-color: transparent;\n",
              "      border-bottom-color: var(--fill-color);\n",
              "      border-left-color: var(--fill-color);\n",
              "    }\n",
              "    20% {\n",
              "      border-color: transparent;\n",
              "      border-left-color: var(--fill-color);\n",
              "      border-top-color: var(--fill-color);\n",
              "    }\n",
              "    30% {\n",
              "      border-color: transparent;\n",
              "      border-left-color: var(--fill-color);\n",
              "      border-top-color: var(--fill-color);\n",
              "      border-right-color: var(--fill-color);\n",
              "    }\n",
              "    40% {\n",
              "      border-color: transparent;\n",
              "      border-right-color: var(--fill-color);\n",
              "      border-top-color: var(--fill-color);\n",
              "    }\n",
              "    60% {\n",
              "      border-color: transparent;\n",
              "      border-right-color: var(--fill-color);\n",
              "    }\n",
              "    80% {\n",
              "      border-color: transparent;\n",
              "      border-right-color: var(--fill-color);\n",
              "      border-bottom-color: var(--fill-color);\n",
              "    }\n",
              "    90% {\n",
              "      border-color: transparent;\n",
              "      border-bottom-color: var(--fill-color);\n",
              "    }\n",
              "  }\n",
              "</style>\n",
              "\n",
              "  <script>\n",
              "    async function quickchart(key) {\n",
              "      const quickchartButtonEl =\n",
              "        document.querySelector('#' + key + ' button');\n",
              "      quickchartButtonEl.disabled = true;  // To prevent multiple clicks.\n",
              "      quickchartButtonEl.classList.add('colab-df-spinner');\n",
              "      try {\n",
              "        const charts = await google.colab.kernel.invokeFunction(\n",
              "            'suggestCharts', [key], {});\n",
              "      } catch (error) {\n",
              "        console.error('Error during call to suggestCharts:', error);\n",
              "      }\n",
              "      quickchartButtonEl.classList.remove('colab-df-spinner');\n",
              "      quickchartButtonEl.classList.add('colab-df-quickchart-complete');\n",
              "    }\n",
              "    (() => {\n",
              "      let quickchartButtonEl =\n",
              "        document.querySelector('#df-0aab169e-79fc-4681-9d8d-a6a38c7aec70 button');\n",
              "      quickchartButtonEl.style.display =\n",
              "        google.colab.kernel.accessAllowed ? 'block' : 'none';\n",
              "    })();\n",
              "  </script>\n",
              "</div>\n",
              "\n",
              "    </div>\n",
              "  </div>\n"
            ],
            "application/vnd.google.colaboratory.intrinsic+json": {
              "type": "dataframe",
              "variable_name": "data",
              "repr_error": "cannot insert Month_Year, already exists"
            }
          },
          "metadata": {},
          "execution_count": 7
        }
      ]
    },
    {
      "cell_type": "code",
      "source": [
        "data.drop(['Month_Year'], axis=1, inplace=True)"
      ],
      "metadata": {
        "id": "kgFU4ve9mlBZ"
      },
      "execution_count": 9,
      "outputs": []
    },
    {
      "cell_type": "code",
      "source": [
        "data"
      ],
      "metadata": {
        "colab": {
          "base_uri": "https://localhost:8080/",
          "height": 455
        },
        "id": "O2WSdw83UwFZ",
        "outputId": "3d23e390-9e3d-40df-ab14-cf3bf7b783fc"
      },
      "execution_count": 10,
      "outputs": [
        {
          "output_type": "execute_result",
          "data": {
            "text/plain": [
              "            No_Tractors_Sold\n",
              "Month_Year                  \n",
              "2003-01-01               141\n",
              "2003-02-01               157\n",
              "2003-03-01               185\n",
              "2003-04-01               199\n",
              "2003-05-01               203\n",
              "...                      ...\n",
              "2014-08-01               848\n",
              "2014-09-01               640\n",
              "2014-10-01               581\n",
              "2014-11-01               519\n",
              "2014-12-01               605\n",
              "\n",
              "[144 rows x 1 columns]"
            ],
            "text/html": [
              "\n",
              "  <div id=\"df-54c6d239-185b-4ced-a2d6-443976f76873\" class=\"colab-df-container\">\n",
              "    <div>\n",
              "<style scoped>\n",
              "    .dataframe tbody tr th:only-of-type {\n",
              "        vertical-align: middle;\n",
              "    }\n",
              "\n",
              "    .dataframe tbody tr th {\n",
              "        vertical-align: top;\n",
              "    }\n",
              "\n",
              "    .dataframe thead th {\n",
              "        text-align: right;\n",
              "    }\n",
              "</style>\n",
              "<table border=\"1\" class=\"dataframe\">\n",
              "  <thead>\n",
              "    <tr style=\"text-align: right;\">\n",
              "      <th></th>\n",
              "      <th>No_Tractors_Sold</th>\n",
              "    </tr>\n",
              "    <tr>\n",
              "      <th>Month_Year</th>\n",
              "      <th></th>\n",
              "    </tr>\n",
              "  </thead>\n",
              "  <tbody>\n",
              "    <tr>\n",
              "      <th>2003-01-01</th>\n",
              "      <td>141</td>\n",
              "    </tr>\n",
              "    <tr>\n",
              "      <th>2003-02-01</th>\n",
              "      <td>157</td>\n",
              "    </tr>\n",
              "    <tr>\n",
              "      <th>2003-03-01</th>\n",
              "      <td>185</td>\n",
              "    </tr>\n",
              "    <tr>\n",
              "      <th>2003-04-01</th>\n",
              "      <td>199</td>\n",
              "    </tr>\n",
              "    <tr>\n",
              "      <th>2003-05-01</th>\n",
              "      <td>203</td>\n",
              "    </tr>\n",
              "    <tr>\n",
              "      <th>...</th>\n",
              "      <td>...</td>\n",
              "    </tr>\n",
              "    <tr>\n",
              "      <th>2014-08-01</th>\n",
              "      <td>848</td>\n",
              "    </tr>\n",
              "    <tr>\n",
              "      <th>2014-09-01</th>\n",
              "      <td>640</td>\n",
              "    </tr>\n",
              "    <tr>\n",
              "      <th>2014-10-01</th>\n",
              "      <td>581</td>\n",
              "    </tr>\n",
              "    <tr>\n",
              "      <th>2014-11-01</th>\n",
              "      <td>519</td>\n",
              "    </tr>\n",
              "    <tr>\n",
              "      <th>2014-12-01</th>\n",
              "      <td>605</td>\n",
              "    </tr>\n",
              "  </tbody>\n",
              "</table>\n",
              "<p>144 rows × 1 columns</p>\n",
              "</div>\n",
              "    <div class=\"colab-df-buttons\">\n",
              "\n",
              "  <div class=\"colab-df-container\">\n",
              "    <button class=\"colab-df-convert\" onclick=\"convertToInteractive('df-54c6d239-185b-4ced-a2d6-443976f76873')\"\n",
              "            title=\"Convert this dataframe to an interactive table.\"\n",
              "            style=\"display:none;\">\n",
              "\n",
              "  <svg xmlns=\"http://www.w3.org/2000/svg\" height=\"24px\" viewBox=\"0 -960 960 960\">\n",
              "    <path d=\"M120-120v-720h720v720H120Zm60-500h600v-160H180v160Zm220 220h160v-160H400v160Zm0 220h160v-160H400v160ZM180-400h160v-160H180v160Zm440 0h160v-160H620v160ZM180-180h160v-160H180v160Zm440 0h160v-160H620v160Z\"/>\n",
              "  </svg>\n",
              "    </button>\n",
              "\n",
              "  <style>\n",
              "    .colab-df-container {\n",
              "      display:flex;\n",
              "      gap: 12px;\n",
              "    }\n",
              "\n",
              "    .colab-df-convert {\n",
              "      background-color: #E8F0FE;\n",
              "      border: none;\n",
              "      border-radius: 50%;\n",
              "      cursor: pointer;\n",
              "      display: none;\n",
              "      fill: #1967D2;\n",
              "      height: 32px;\n",
              "      padding: 0 0 0 0;\n",
              "      width: 32px;\n",
              "    }\n",
              "\n",
              "    .colab-df-convert:hover {\n",
              "      background-color: #E2EBFA;\n",
              "      box-shadow: 0px 1px 2px rgba(60, 64, 67, 0.3), 0px 1px 3px 1px rgba(60, 64, 67, 0.15);\n",
              "      fill: #174EA6;\n",
              "    }\n",
              "\n",
              "    .colab-df-buttons div {\n",
              "      margin-bottom: 4px;\n",
              "    }\n",
              "\n",
              "    [theme=dark] .colab-df-convert {\n",
              "      background-color: #3B4455;\n",
              "      fill: #D2E3FC;\n",
              "    }\n",
              "\n",
              "    [theme=dark] .colab-df-convert:hover {\n",
              "      background-color: #434B5C;\n",
              "      box-shadow: 0px 1px 3px 1px rgba(0, 0, 0, 0.15);\n",
              "      filter: drop-shadow(0px 1px 2px rgba(0, 0, 0, 0.3));\n",
              "      fill: #FFFFFF;\n",
              "    }\n",
              "  </style>\n",
              "\n",
              "    <script>\n",
              "      const buttonEl =\n",
              "        document.querySelector('#df-54c6d239-185b-4ced-a2d6-443976f76873 button.colab-df-convert');\n",
              "      buttonEl.style.display =\n",
              "        google.colab.kernel.accessAllowed ? 'block' : 'none';\n",
              "\n",
              "      async function convertToInteractive(key) {\n",
              "        const element = document.querySelector('#df-54c6d239-185b-4ced-a2d6-443976f76873');\n",
              "        const dataTable =\n",
              "          await google.colab.kernel.invokeFunction('convertToInteractive',\n",
              "                                                    [key], {});\n",
              "        if (!dataTable) return;\n",
              "\n",
              "        const docLinkHtml = 'Like what you see? Visit the ' +\n",
              "          '<a target=\"_blank\" href=https://colab.research.google.com/notebooks/data_table.ipynb>data table notebook</a>'\n",
              "          + ' to learn more about interactive tables.';\n",
              "        element.innerHTML = '';\n",
              "        dataTable['output_type'] = 'display_data';\n",
              "        await google.colab.output.renderOutput(dataTable, element);\n",
              "        const docLink = document.createElement('div');\n",
              "        docLink.innerHTML = docLinkHtml;\n",
              "        element.appendChild(docLink);\n",
              "      }\n",
              "    </script>\n",
              "  </div>\n",
              "\n",
              "\n",
              "<div id=\"df-8403b68e-1af4-4b6d-ad66-ba332aad2382\">\n",
              "  <button class=\"colab-df-quickchart\" onclick=\"quickchart('df-8403b68e-1af4-4b6d-ad66-ba332aad2382')\"\n",
              "            title=\"Suggest charts\"\n",
              "            style=\"display:none;\">\n",
              "\n",
              "<svg xmlns=\"http://www.w3.org/2000/svg\" height=\"24px\"viewBox=\"0 0 24 24\"\n",
              "     width=\"24px\">\n",
              "    <g>\n",
              "        <path d=\"M19 3H5c-1.1 0-2 .9-2 2v14c0 1.1.9 2 2 2h14c1.1 0 2-.9 2-2V5c0-1.1-.9-2-2-2zM9 17H7v-7h2v7zm4 0h-2V7h2v10zm4 0h-2v-4h2v4z\"/>\n",
              "    </g>\n",
              "</svg>\n",
              "  </button>\n",
              "\n",
              "<style>\n",
              "  .colab-df-quickchart {\n",
              "      --bg-color: #E8F0FE;\n",
              "      --fill-color: #1967D2;\n",
              "      --hover-bg-color: #E2EBFA;\n",
              "      --hover-fill-color: #174EA6;\n",
              "      --disabled-fill-color: #AAA;\n",
              "      --disabled-bg-color: #DDD;\n",
              "  }\n",
              "\n",
              "  [theme=dark] .colab-df-quickchart {\n",
              "      --bg-color: #3B4455;\n",
              "      --fill-color: #D2E3FC;\n",
              "      --hover-bg-color: #434B5C;\n",
              "      --hover-fill-color: #FFFFFF;\n",
              "      --disabled-bg-color: #3B4455;\n",
              "      --disabled-fill-color: #666;\n",
              "  }\n",
              "\n",
              "  .colab-df-quickchart {\n",
              "    background-color: var(--bg-color);\n",
              "    border: none;\n",
              "    border-radius: 50%;\n",
              "    cursor: pointer;\n",
              "    display: none;\n",
              "    fill: var(--fill-color);\n",
              "    height: 32px;\n",
              "    padding: 0;\n",
              "    width: 32px;\n",
              "  }\n",
              "\n",
              "  .colab-df-quickchart:hover {\n",
              "    background-color: var(--hover-bg-color);\n",
              "    box-shadow: 0 1px 2px rgba(60, 64, 67, 0.3), 0 1px 3px 1px rgba(60, 64, 67, 0.15);\n",
              "    fill: var(--button-hover-fill-color);\n",
              "  }\n",
              "\n",
              "  .colab-df-quickchart-complete:disabled,\n",
              "  .colab-df-quickchart-complete:disabled:hover {\n",
              "    background-color: var(--disabled-bg-color);\n",
              "    fill: var(--disabled-fill-color);\n",
              "    box-shadow: none;\n",
              "  }\n",
              "\n",
              "  .colab-df-spinner {\n",
              "    border: 2px solid var(--fill-color);\n",
              "    border-color: transparent;\n",
              "    border-bottom-color: var(--fill-color);\n",
              "    animation:\n",
              "      spin 1s steps(1) infinite;\n",
              "  }\n",
              "\n",
              "  @keyframes spin {\n",
              "    0% {\n",
              "      border-color: transparent;\n",
              "      border-bottom-color: var(--fill-color);\n",
              "      border-left-color: var(--fill-color);\n",
              "    }\n",
              "    20% {\n",
              "      border-color: transparent;\n",
              "      border-left-color: var(--fill-color);\n",
              "      border-top-color: var(--fill-color);\n",
              "    }\n",
              "    30% {\n",
              "      border-color: transparent;\n",
              "      border-left-color: var(--fill-color);\n",
              "      border-top-color: var(--fill-color);\n",
              "      border-right-color: var(--fill-color);\n",
              "    }\n",
              "    40% {\n",
              "      border-color: transparent;\n",
              "      border-right-color: var(--fill-color);\n",
              "      border-top-color: var(--fill-color);\n",
              "    }\n",
              "    60% {\n",
              "      border-color: transparent;\n",
              "      border-right-color: var(--fill-color);\n",
              "    }\n",
              "    80% {\n",
              "      border-color: transparent;\n",
              "      border-right-color: var(--fill-color);\n",
              "      border-bottom-color: var(--fill-color);\n",
              "    }\n",
              "    90% {\n",
              "      border-color: transparent;\n",
              "      border-bottom-color: var(--fill-color);\n",
              "    }\n",
              "  }\n",
              "</style>\n",
              "\n",
              "  <script>\n",
              "    async function quickchart(key) {\n",
              "      const quickchartButtonEl =\n",
              "        document.querySelector('#' + key + ' button');\n",
              "      quickchartButtonEl.disabled = true;  // To prevent multiple clicks.\n",
              "      quickchartButtonEl.classList.add('colab-df-spinner');\n",
              "      try {\n",
              "        const charts = await google.colab.kernel.invokeFunction(\n",
              "            'suggestCharts', [key], {});\n",
              "      } catch (error) {\n",
              "        console.error('Error during call to suggestCharts:', error);\n",
              "      }\n",
              "      quickchartButtonEl.classList.remove('colab-df-spinner');\n",
              "      quickchartButtonEl.classList.add('colab-df-quickchart-complete');\n",
              "    }\n",
              "    (() => {\n",
              "      let quickchartButtonEl =\n",
              "        document.querySelector('#df-8403b68e-1af4-4b6d-ad66-ba332aad2382 button');\n",
              "      quickchartButtonEl.style.display =\n",
              "        google.colab.kernel.accessAllowed ? 'block' : 'none';\n",
              "    })();\n",
              "  </script>\n",
              "</div>\n",
              "\n",
              "  <div id=\"id_511b4e24-c1c6-4964-b910-e1d10c852756\">\n",
              "    <style>\n",
              "      .colab-df-generate {\n",
              "        background-color: #E8F0FE;\n",
              "        border: none;\n",
              "        border-radius: 50%;\n",
              "        cursor: pointer;\n",
              "        display: none;\n",
              "        fill: #1967D2;\n",
              "        height: 32px;\n",
              "        padding: 0 0 0 0;\n",
              "        width: 32px;\n",
              "      }\n",
              "\n",
              "      .colab-df-generate:hover {\n",
              "        background-color: #E2EBFA;\n",
              "        box-shadow: 0px 1px 2px rgba(60, 64, 67, 0.3), 0px 1px 3px 1px rgba(60, 64, 67, 0.15);\n",
              "        fill: #174EA6;\n",
              "      }\n",
              "\n",
              "      [theme=dark] .colab-df-generate {\n",
              "        background-color: #3B4455;\n",
              "        fill: #D2E3FC;\n",
              "      }\n",
              "\n",
              "      [theme=dark] .colab-df-generate:hover {\n",
              "        background-color: #434B5C;\n",
              "        box-shadow: 0px 1px 3px 1px rgba(0, 0, 0, 0.15);\n",
              "        filter: drop-shadow(0px 1px 2px rgba(0, 0, 0, 0.3));\n",
              "        fill: #FFFFFF;\n",
              "      }\n",
              "    </style>\n",
              "    <button class=\"colab-df-generate\" onclick=\"generateWithVariable('data')\"\n",
              "            title=\"Generate code using this dataframe.\"\n",
              "            style=\"display:none;\">\n",
              "\n",
              "  <svg xmlns=\"http://www.w3.org/2000/svg\" height=\"24px\"viewBox=\"0 0 24 24\"\n",
              "       width=\"24px\">\n",
              "    <path d=\"M7,19H8.4L18.45,9,17,7.55,7,17.6ZM5,21V16.75L18.45,3.32a2,2,0,0,1,2.83,0l1.4,1.43a1.91,1.91,0,0,1,.58,1.4,1.91,1.91,0,0,1-.58,1.4L9.25,21ZM18.45,9,17,7.55Zm-12,3A5.31,5.31,0,0,0,4.9,8.1,5.31,5.31,0,0,0,1,6.5,5.31,5.31,0,0,0,4.9,4.9,5.31,5.31,0,0,0,6.5,1,5.31,5.31,0,0,0,8.1,4.9,5.31,5.31,0,0,0,12,6.5,5.46,5.46,0,0,0,6.5,12Z\"/>\n",
              "  </svg>\n",
              "    </button>\n",
              "    <script>\n",
              "      (() => {\n",
              "      const buttonEl =\n",
              "        document.querySelector('#id_511b4e24-c1c6-4964-b910-e1d10c852756 button.colab-df-generate');\n",
              "      buttonEl.style.display =\n",
              "        google.colab.kernel.accessAllowed ? 'block' : 'none';\n",
              "\n",
              "      buttonEl.onclick = () => {\n",
              "        google.colab.notebook.generateWithVariable('data');\n",
              "      }\n",
              "      })();\n",
              "    </script>\n",
              "  </div>\n",
              "\n",
              "    </div>\n",
              "  </div>\n"
            ],
            "application/vnd.google.colaboratory.intrinsic+json": {
              "type": "dataframe",
              "variable_name": "data",
              "summary": "{\n  \"name\": \"data\",\n  \"rows\": 144,\n  \"fields\": [\n    {\n      \"column\": \"Month_Year\",\n      \"properties\": {\n        \"dtype\": \"date\",\n        \"min\": \"2003-01-01 00:00:00\",\n        \"max\": \"2014-12-01 00:00:00\",\n        \"num_unique_values\": 144,\n        \"samples\": [\n          \"2012-10-01 00:00:00\",\n          \"2004-08-01 00:00:00\",\n          \"2009-11-01 00:00:00\"\n        ],\n        \"semantic_type\": \"\",\n        \"description\": \"\"\n      }\n    },\n    {\n      \"column\": \"No_Tractors_Sold\",\n      \"properties\": {\n        \"dtype\": \"number\",\n        \"std\": 171,\n        \"min\": 138,\n        \"max\": 871,\n        \"num_unique_values\": 123,\n        \"samples\": [\n          152,\n          340,\n          381\n        ],\n        \"semantic_type\": \"\",\n        \"description\": \"\"\n      }\n    }\n  ]\n}"
            }
          },
          "metadata": {},
          "execution_count": 10
        }
      ]
    },
    {
      "cell_type": "code",
      "source": [
        "# Data preprocessing\n",
        "from sklearn.preprocessing import MinMaxScaler\n",
        "scaler = MinMaxScaler(feature_range=(0, 1))\n",
        "scaled_data = scaler.fit_transform(data)\n",
        "\n",
        "# Function to create sequences for LSTM\n",
        "def create_sequences(data, seq_length):\n",
        "    X, y = [], []\n",
        "    for i in range(len(data) - seq_length):\n",
        "        X.append(data[i:i + seq_length])\n",
        "        y.append(data[i + seq_length])\n",
        "    return np.array(X), np.array(y)\n",
        "\n",
        "# Hyperparameters\n",
        "seq_length = 10  # Sequence length\n",
        "n_features = 1  # Number of features (only 'Tractor_Sales')\n",
        "\n",
        "# Create sequences for LSTM\n",
        "X, y = create_sequences(scaled_data, seq_length)"
      ],
      "metadata": {
        "id": "-QAytN1tVCA5"
      },
      "execution_count": 21,
      "outputs": []
    },
    {
      "cell_type": "code",
      "source": [
        "X.shape"
      ],
      "metadata": {
        "colab": {
          "base_uri": "https://localhost:8080/"
        },
        "id": "tphrhVdpWVdE",
        "outputId": "467e4e8f-f6f2-4ab8-b9a6-913fae17570e"
      },
      "execution_count": 22,
      "outputs": [
        {
          "output_type": "execute_result",
          "data": {
            "text/plain": [
              "(134, 10, 1)"
            ]
          },
          "metadata": {},
          "execution_count": 22
        }
      ]
    },
    {
      "cell_type": "code",
      "source": [
        "y.shape"
      ],
      "metadata": {
        "colab": {
          "base_uri": "https://localhost:8080/"
        },
        "id": "LYHJsI9UW6qW",
        "outputId": "2c34ae7f-87af-4907-e861-9648bcfc3329"
      },
      "execution_count": 23,
      "outputs": [
        {
          "output_type": "execute_result",
          "data": {
            "text/plain": [
              "(134, 1)"
            ]
          },
          "metadata": {},
          "execution_count": 23
        }
      ]
    },
    {
      "cell_type": "code",
      "source": [
        "from sklearn.model_selection import train_test_split"
      ],
      "metadata": {
        "id": "JEDmHzOCX5vn"
      },
      "execution_count": 24,
      "outputs": []
    },
    {
      "cell_type": "code",
      "source": [
        "X_train, X_test, y_train, y_test = train_test_split(X, y, test_size=0.2, random_state=42)"
      ],
      "metadata": {
        "id": "vwElLBBfYDhg"
      },
      "execution_count": 25,
      "outputs": []
    },
    {
      "cell_type": "code",
      "source": [
        "# Print the shapes of the resulting datasets\n",
        "print(\"X_train shape:\", X_train.shape)\n",
        "print(\"X_test shape:\", X_test.shape)\n",
        "print(\"y_train shape:\", y_train.shape)\n",
        "print(\"y_test shape:\", y_test.shape)"
      ],
      "metadata": {
        "colab": {
          "base_uri": "https://localhost:8080/"
        },
        "id": "5E35ZK5ZYHUk",
        "outputId": "52cb4ddc-4f94-4ca0-f092-899bc9a7ef4a"
      },
      "execution_count": 26,
      "outputs": [
        {
          "output_type": "stream",
          "name": "stdout",
          "text": [
            "X_train shape: (107, 10, 1)\n",
            "X_test shape: (27, 10, 1)\n",
            "y_train shape: (107, 1)\n",
            "y_test shape: (27, 1)\n"
          ]
        }
      ]
    },
    {
      "cell_type": "code",
      "source": [
        "# Build LSTM model\n",
        "model = Sequential([\n",
        "    LSTM(units=50, activation='relu',return_sequences=True, input_shape=(seq_length, 1)),\n",
        "    Dropout(0.2),\n",
        "    LSTM(units=50, return_sequences=True),\n",
        "    Dropout(0.2),\n",
        "    LSTM(units=50, return_sequences=True),\n",
        "    Dropout(0.2),\n",
        "    LSTM(units=50),\n",
        "    Dropout(0.2),\n",
        "    Dense(units=1)\n",
        "])\n",
        "\n",
        "# Compile the model\n",
        "model.compile(optimizer='adam', loss='mean_squared_error')\n",
        "\n",
        "# Train the model\n",
        "history = model.fit(X_train, y_train, epochs=50, batch_size=32, validation_data=(X_test, y_test), verbose=1)\n"
      ],
      "metadata": {
        "colab": {
          "base_uri": "https://localhost:8080/"
        },
        "id": "mllfFErofF3M",
        "outputId": "f7ba3c34-9cfe-4acf-9256-9ca944e1c780"
      },
      "execution_count": 27,
      "outputs": [
        {
          "output_type": "stream",
          "name": "stdout",
          "text": [
            "Epoch 1/50\n",
            "4/4 [==============================] - 10s 725ms/step - loss: 0.1727 - val_loss: 0.0774\n",
            "Epoch 2/50\n",
            "4/4 [==============================] - 0s 60ms/step - loss: 0.1006 - val_loss: 0.0247\n",
            "Epoch 3/50\n",
            "4/4 [==============================] - 0s 68ms/step - loss: 0.0400 - val_loss: 0.0645\n",
            "Epoch 4/50\n",
            "4/4 [==============================] - 0s 42ms/step - loss: 0.0581 - val_loss: 0.0257\n",
            "Epoch 5/50\n",
            "4/4 [==============================] - 0s 38ms/step - loss: 0.0367 - val_loss: 0.0221\n",
            "Epoch 6/50\n",
            "4/4 [==============================] - 0s 33ms/step - loss: 0.0435 - val_loss: 0.0217\n",
            "Epoch 7/50\n",
            "4/4 [==============================] - 0s 36ms/step - loss: 0.0366 - val_loss: 0.0181\n",
            "Epoch 8/50\n",
            "4/4 [==============================] - 0s 34ms/step - loss: 0.0312 - val_loss: 0.0225\n",
            "Epoch 9/50\n",
            "4/4 [==============================] - 0s 35ms/step - loss: 0.0308 - val_loss: 0.0200\n",
            "Epoch 10/50\n",
            "4/4 [==============================] - 0s 35ms/step - loss: 0.0273 - val_loss: 0.0141\n",
            "Epoch 11/50\n",
            "4/4 [==============================] - 0s 40ms/step - loss: 0.0246 - val_loss: 0.0124\n",
            "Epoch 12/50\n",
            "4/4 [==============================] - 0s 43ms/step - loss: 0.0218 - val_loss: 0.0119\n",
            "Epoch 13/50\n",
            "4/4 [==============================] - 0s 37ms/step - loss: 0.0213 - val_loss: 0.0141\n",
            "Epoch 14/50\n",
            "4/4 [==============================] - 0s 39ms/step - loss: 0.0258 - val_loss: 0.0120\n",
            "Epoch 15/50\n",
            "4/4 [==============================] - 0s 42ms/step - loss: 0.0223 - val_loss: 0.0125\n",
            "Epoch 16/50\n",
            "4/4 [==============================] - 0s 38ms/step - loss: 0.0262 - val_loss: 0.0119\n",
            "Epoch 17/50\n",
            "4/4 [==============================] - 0s 40ms/step - loss: 0.0238 - val_loss: 0.0155\n",
            "Epoch 18/50\n",
            "4/4 [==============================] - 0s 47ms/step - loss: 0.0219 - val_loss: 0.0115\n",
            "Epoch 19/50\n",
            "4/4 [==============================] - 0s 39ms/step - loss: 0.0223 - val_loss: 0.0118\n",
            "Epoch 20/50\n",
            "4/4 [==============================] - 0s 39ms/step - loss: 0.0227 - val_loss: 0.0134\n",
            "Epoch 21/50\n",
            "4/4 [==============================] - 0s 40ms/step - loss: 0.0232 - val_loss: 0.0134\n",
            "Epoch 22/50\n",
            "4/4 [==============================] - 0s 37ms/step - loss: 0.0239 - val_loss: 0.0117\n",
            "Epoch 23/50\n",
            "4/4 [==============================] - 0s 42ms/step - loss: 0.0217 - val_loss: 0.0120\n",
            "Epoch 24/50\n",
            "4/4 [==============================] - 0s 35ms/step - loss: 0.0217 - val_loss: 0.0121\n",
            "Epoch 25/50\n",
            "4/4 [==============================] - 0s 41ms/step - loss: 0.0233 - val_loss: 0.0122\n",
            "Epoch 26/50\n",
            "4/4 [==============================] - 0s 35ms/step - loss: 0.0238 - val_loss: 0.0120\n",
            "Epoch 27/50\n",
            "4/4 [==============================] - 0s 36ms/step - loss: 0.0192 - val_loss: 0.0118\n",
            "Epoch 28/50\n",
            "4/4 [==============================] - 0s 34ms/step - loss: 0.0214 - val_loss: 0.0120\n",
            "Epoch 29/50\n",
            "4/4 [==============================] - 0s 35ms/step - loss: 0.0203 - val_loss: 0.0138\n",
            "Epoch 30/50\n",
            "4/4 [==============================] - 0s 35ms/step - loss: 0.0184 - val_loss: 0.0124\n",
            "Epoch 31/50\n",
            "4/4 [==============================] - 0s 35ms/step - loss: 0.0225 - val_loss: 0.0115\n",
            "Epoch 32/50\n",
            "4/4 [==============================] - 0s 39ms/step - loss: 0.0231 - val_loss: 0.0114\n",
            "Epoch 33/50\n",
            "4/4 [==============================] - 0s 38ms/step - loss: 0.0218 - val_loss: 0.0121\n",
            "Epoch 34/50\n",
            "4/4 [==============================] - 0s 37ms/step - loss: 0.0194 - val_loss: 0.0114\n",
            "Epoch 35/50\n",
            "4/4 [==============================] - 0s 36ms/step - loss: 0.0191 - val_loss: 0.0114\n",
            "Epoch 36/50\n",
            "4/4 [==============================] - 0s 36ms/step - loss: 0.0199 - val_loss: 0.0134\n",
            "Epoch 37/50\n",
            "4/4 [==============================] - 0s 35ms/step - loss: 0.0261 - val_loss: 0.0130\n",
            "Epoch 38/50\n",
            "4/4 [==============================] - 0s 44ms/step - loss: 0.0210 - val_loss: 0.0127\n",
            "Epoch 39/50\n",
            "4/4 [==============================] - 0s 43ms/step - loss: 0.0237 - val_loss: 0.0111\n",
            "Epoch 40/50\n",
            "4/4 [==============================] - 0s 39ms/step - loss: 0.0208 - val_loss: 0.0140\n",
            "Epoch 41/50\n",
            "4/4 [==============================] - 0s 34ms/step - loss: 0.0205 - val_loss: 0.0125\n",
            "Epoch 42/50\n",
            "4/4 [==============================] - 0s 35ms/step - loss: 0.0201 - val_loss: 0.0116\n",
            "Epoch 43/50\n",
            "4/4 [==============================] - 0s 34ms/step - loss: 0.0199 - val_loss: 0.0119\n",
            "Epoch 44/50\n",
            "4/4 [==============================] - 0s 35ms/step - loss: 0.0217 - val_loss: 0.0134\n",
            "Epoch 45/50\n",
            "4/4 [==============================] - 0s 37ms/step - loss: 0.0181 - val_loss: 0.0116\n",
            "Epoch 46/50\n",
            "4/4 [==============================] - 0s 34ms/step - loss: 0.0233 - val_loss: 0.0113\n",
            "Epoch 47/50\n",
            "4/4 [==============================] - 0s 41ms/step - loss: 0.0205 - val_loss: 0.0111\n",
            "Epoch 48/50\n",
            "4/4 [==============================] - 0s 41ms/step - loss: 0.0183 - val_loss: 0.0126\n",
            "Epoch 49/50\n",
            "4/4 [==============================] - 0s 35ms/step - loss: 0.0172 - val_loss: 0.0129\n",
            "Epoch 50/50\n",
            "4/4 [==============================] - 0s 38ms/step - loss: 0.0207 - val_loss: 0.0117\n"
          ]
        }
      ]
    },
    {
      "cell_type": "code",
      "source": [
        "train_predictions = model.predict(X_train)\n",
        "test_predictions = model.predict(X_test)"
      ],
      "metadata": {
        "colab": {
          "base_uri": "https://localhost:8080/"
        },
        "id": "6_8mquXtjBXB",
        "outputId": "8b7a0f6f-f2a5-4a73-e3ef-657eabd1a985"
      },
      "execution_count": 28,
      "outputs": [
        {
          "output_type": "stream",
          "name": "stdout",
          "text": [
            "4/4 [==============================] - 1s 9ms/step\n",
            "1/1 [==============================] - 0s 52ms/step\n"
          ]
        }
      ]
    },
    {
      "cell_type": "code",
      "source": [
        "train_predictions.shape"
      ],
      "metadata": {
        "colab": {
          "base_uri": "https://localhost:8080/"
        },
        "id": "P5L3MI8AjCax",
        "outputId": "3d484587-dd6d-4e71-890d-d7d9fc91a7b5"
      },
      "execution_count": 29,
      "outputs": [
        {
          "output_type": "execute_result",
          "data": {
            "text/plain": [
              "(107, 1)"
            ]
          },
          "metadata": {},
          "execution_count": 29
        }
      ]
    },
    {
      "cell_type": "code",
      "source": [
        "test_predictions.shape"
      ],
      "metadata": {
        "colab": {
          "base_uri": "https://localhost:8080/"
        },
        "id": "CIBCmeoSjF2T",
        "outputId": "4076afee-1a27-4c61-ef56-b69ea93b0e26"
      },
      "execution_count": 30,
      "outputs": [
        {
          "output_type": "execute_result",
          "data": {
            "text/plain": [
              "(27, 1)"
            ]
          },
          "metadata": {},
          "execution_count": 30
        }
      ]
    },
    {
      "cell_type": "code",
      "source": [
        "# Inverse scaling\n",
        "train_predictions = scaler.inverse_transform(train_predictions.reshape(-1, 1)).flatten()\n",
        "y_train_inv = scaler.inverse_transform(y_train).flatten()\n",
        "test_predictions = scaler.inverse_transform(test_predictions.reshape(-1, 1)).flatten()\n",
        "y_test_inv = scaler.inverse_transform(y_test).flatten()"
      ],
      "metadata": {
        "id": "shvTsorhjXhT"
      },
      "execution_count": 31,
      "outputs": []
    },
    {
      "cell_type": "code",
      "source": [
        "from sklearn.metrics import mean_squared_error\n",
        "from sklearn.metrics import mean_absolute_error\n",
        "\n",
        "# Calculate RMSE\n",
        "train_rmse = np.sqrt(mean_squared_error(y_train_inv, train_predictions))\n",
        "test_rmse = np.sqrt(mean_squared_error(y_test_inv, test_predictions))"
      ],
      "metadata": {
        "id": "UjKWbuL_k_Qe"
      },
      "execution_count": 32,
      "outputs": []
    },
    {
      "cell_type": "code",
      "source": [
        "train_rmse"
      ],
      "metadata": {
        "colab": {
          "base_uri": "https://localhost:8080/"
        },
        "id": "XNJMF8zAlHA9",
        "outputId": "c9c3c823-4d67-40f5-9d61-2933646972ca"
      },
      "execution_count": 33,
      "outputs": [
        {
          "output_type": "execute_result",
          "data": {
            "text/plain": [
              "98.87917013468662"
            ]
          },
          "metadata": {},
          "execution_count": 33
        }
      ]
    },
    {
      "cell_type": "code",
      "source": [
        "test_rmse"
      ],
      "metadata": {
        "colab": {
          "base_uri": "https://localhost:8080/"
        },
        "id": "ry7PJelBlIzI",
        "outputId": "a29e2514-3e17-40b5-e7d7-a8f18d0aa3a0"
      },
      "execution_count": 34,
      "outputs": [
        {
          "output_type": "execute_result",
          "data": {
            "text/plain": [
              "79.36259124645488"
            ]
          },
          "metadata": {},
          "execution_count": 34
        }
      ]
    },
    {
      "cell_type": "code",
      "source": [
        "def mean_absolute_percentage_error(y_true, y_pred):\n",
        "    y_true, y_pred = np.array(y_true), np.array(y_pred)\n",
        "    return np.mean(np.abs((y_true - y_pred) / y_true)) * 100"
      ],
      "metadata": {
        "id": "szIp0qKFmRUw"
      },
      "execution_count": 35,
      "outputs": []
    },
    {
      "cell_type": "code",
      "source": [
        "# Calculate MAPE for test set\n",
        "test_mape = mean_absolute_percentage_error(y_test_inv, test_predictions)\n",
        "print(\"Test MAPE:\", test_mape)"
      ],
      "metadata": {
        "colab": {
          "base_uri": "https://localhost:8080/"
        },
        "id": "6Bt5uxIgllUo",
        "outputId": "c4ab2863-b12f-4e3c-ab5c-395bb43c1135"
      },
      "execution_count": 36,
      "outputs": [
        {
          "output_type": "stream",
          "name": "stdout",
          "text": [
            "Test MAPE: 18.686244482990976\n"
          ]
        }
      ]
    },
    {
      "cell_type": "code",
      "source": [
        "# Calculate MAPE for train set\n",
        "test_mape = mean_absolute_percentage_error(y_train_inv, train_predictions)\n",
        "print(\"Train MAPE:\", test_mape)"
      ],
      "metadata": {
        "colab": {
          "base_uri": "https://localhost:8080/"
        },
        "id": "1I-Vl73tl5yJ",
        "outputId": "6581c036-c03c-4b24-8be8-a41863f9456c"
      },
      "execution_count": 37,
      "outputs": [
        {
          "output_type": "stream",
          "name": "stdout",
          "text": [
            "Train MAPE: 19.27909461443806\n"
          ]
        }
      ]
    },
    {
      "cell_type": "code",
      "source": [
        "test_predictions"
      ],
      "metadata": {
        "colab": {
          "base_uri": "https://localhost:8080/"
        },
        "id": "oDoBuFDhnr9h",
        "outputId": "e1107b85-df1d-48d0-ee81-16f495c3e36c"
      },
      "execution_count": 38,
      "outputs": [
        {
          "output_type": "execute_result",
          "data": {
            "text/plain": [
              "array([599.616  , 408.29373, 512.71405, 223.22765, 326.63208, 359.371  ,\n",
              "       205.66791, 559.56384, 584.5329 , 575.83875, 291.95724, 340.6328 ,\n",
              "       291.26266, 338.71436, 450.99896, 260.59277, 471.79987, 215.36166,\n",
              "       427.77307, 548.21075, 485.28238, 289.89014, 235.04489, 233.96013,\n",
              "       193.89508, 583.3212 , 297.04282], dtype=float32)"
            ]
          },
          "metadata": {},
          "execution_count": 38
        }
      ]
    },
    {
      "cell_type": "code",
      "source": [
        "y_test_inv"
      ],
      "metadata": {
        "colab": {
          "base_uri": "https://localhost:8080/"
        },
        "id": "CZui2O8knxg_",
        "outputId": "fda30b0f-4015-4284-ecc3-f5578a384755"
      },
      "execution_count": 39,
      "outputs": [
        {
          "output_type": "execute_result",
          "data": {
            "text/plain": [
              "array([749., 454., 687., 249., 385., 270., 152., 472., 507., 536., 370.,\n",
              "       330., 239., 266., 389., 305., 386., 197., 374., 470., 360., 215.,\n",
              "       249., 289., 199., 454., 381.])"
            ]
          },
          "metadata": {},
          "execution_count": 39
        }
      ]
    },
    {
      "cell_type": "code",
      "source": [
        "data[data['No_Tractors_Sold']==687]"
      ],
      "metadata": {
        "colab": {
          "base_uri": "https://localhost:8080/",
          "height": 112
        },
        "id": "7qZ9_hBUsusZ",
        "outputId": "868731c4-19bd-460e-8a14-561538c141fd"
      },
      "execution_count": 40,
      "outputs": [
        {
          "output_type": "execute_result",
          "data": {
            "text/plain": [
              "            No_Tractors_Sold\n",
              "Month_Year                  \n",
              "2012-07-01               687"
            ],
            "text/html": [
              "\n",
              "  <div id=\"df-a752d5cb-a7dc-4f8f-be8a-c3e85cbdb923\" class=\"colab-df-container\">\n",
              "    <div>\n",
              "<style scoped>\n",
              "    .dataframe tbody tr th:only-of-type {\n",
              "        vertical-align: middle;\n",
              "    }\n",
              "\n",
              "    .dataframe tbody tr th {\n",
              "        vertical-align: top;\n",
              "    }\n",
              "\n",
              "    .dataframe thead th {\n",
              "        text-align: right;\n",
              "    }\n",
              "</style>\n",
              "<table border=\"1\" class=\"dataframe\">\n",
              "  <thead>\n",
              "    <tr style=\"text-align: right;\">\n",
              "      <th></th>\n",
              "      <th>No_Tractors_Sold</th>\n",
              "    </tr>\n",
              "    <tr>\n",
              "      <th>Month_Year</th>\n",
              "      <th></th>\n",
              "    </tr>\n",
              "  </thead>\n",
              "  <tbody>\n",
              "    <tr>\n",
              "      <th>2012-07-01</th>\n",
              "      <td>687</td>\n",
              "    </tr>\n",
              "  </tbody>\n",
              "</table>\n",
              "</div>\n",
              "    <div class=\"colab-df-buttons\">\n",
              "\n",
              "  <div class=\"colab-df-container\">\n",
              "    <button class=\"colab-df-convert\" onclick=\"convertToInteractive('df-a752d5cb-a7dc-4f8f-be8a-c3e85cbdb923')\"\n",
              "            title=\"Convert this dataframe to an interactive table.\"\n",
              "            style=\"display:none;\">\n",
              "\n",
              "  <svg xmlns=\"http://www.w3.org/2000/svg\" height=\"24px\" viewBox=\"0 -960 960 960\">\n",
              "    <path d=\"M120-120v-720h720v720H120Zm60-500h600v-160H180v160Zm220 220h160v-160H400v160Zm0 220h160v-160H400v160ZM180-400h160v-160H180v160Zm440 0h160v-160H620v160ZM180-180h160v-160H180v160Zm440 0h160v-160H620v160Z\"/>\n",
              "  </svg>\n",
              "    </button>\n",
              "\n",
              "  <style>\n",
              "    .colab-df-container {\n",
              "      display:flex;\n",
              "      gap: 12px;\n",
              "    }\n",
              "\n",
              "    .colab-df-convert {\n",
              "      background-color: #E8F0FE;\n",
              "      border: none;\n",
              "      border-radius: 50%;\n",
              "      cursor: pointer;\n",
              "      display: none;\n",
              "      fill: #1967D2;\n",
              "      height: 32px;\n",
              "      padding: 0 0 0 0;\n",
              "      width: 32px;\n",
              "    }\n",
              "\n",
              "    .colab-df-convert:hover {\n",
              "      background-color: #E2EBFA;\n",
              "      box-shadow: 0px 1px 2px rgba(60, 64, 67, 0.3), 0px 1px 3px 1px rgba(60, 64, 67, 0.15);\n",
              "      fill: #174EA6;\n",
              "    }\n",
              "\n",
              "    .colab-df-buttons div {\n",
              "      margin-bottom: 4px;\n",
              "    }\n",
              "\n",
              "    [theme=dark] .colab-df-convert {\n",
              "      background-color: #3B4455;\n",
              "      fill: #D2E3FC;\n",
              "    }\n",
              "\n",
              "    [theme=dark] .colab-df-convert:hover {\n",
              "      background-color: #434B5C;\n",
              "      box-shadow: 0px 1px 3px 1px rgba(0, 0, 0, 0.15);\n",
              "      filter: drop-shadow(0px 1px 2px rgba(0, 0, 0, 0.3));\n",
              "      fill: #FFFFFF;\n",
              "    }\n",
              "  </style>\n",
              "\n",
              "    <script>\n",
              "      const buttonEl =\n",
              "        document.querySelector('#df-a752d5cb-a7dc-4f8f-be8a-c3e85cbdb923 button.colab-df-convert');\n",
              "      buttonEl.style.display =\n",
              "        google.colab.kernel.accessAllowed ? 'block' : 'none';\n",
              "\n",
              "      async function convertToInteractive(key) {\n",
              "        const element = document.querySelector('#df-a752d5cb-a7dc-4f8f-be8a-c3e85cbdb923');\n",
              "        const dataTable =\n",
              "          await google.colab.kernel.invokeFunction('convertToInteractive',\n",
              "                                                    [key], {});\n",
              "        if (!dataTable) return;\n",
              "\n",
              "        const docLinkHtml = 'Like what you see? Visit the ' +\n",
              "          '<a target=\"_blank\" href=https://colab.research.google.com/notebooks/data_table.ipynb>data table notebook</a>'\n",
              "          + ' to learn more about interactive tables.';\n",
              "        element.innerHTML = '';\n",
              "        dataTable['output_type'] = 'display_data';\n",
              "        await google.colab.output.renderOutput(dataTable, element);\n",
              "        const docLink = document.createElement('div');\n",
              "        docLink.innerHTML = docLinkHtml;\n",
              "        element.appendChild(docLink);\n",
              "      }\n",
              "    </script>\n",
              "  </div>\n",
              "\n",
              "\n",
              "    </div>\n",
              "  </div>\n"
            ],
            "application/vnd.google.colaboratory.intrinsic+json": {
              "type": "dataframe",
              "summary": "{\n  \"name\": \"data[data['No_Tractors_Sold']==687]\",\n  \"rows\": 1,\n  \"fields\": [\n    {\n      \"column\": \"Month_Year\",\n      \"properties\": {\n        \"dtype\": \"date\",\n        \"min\": \"2012-07-01 00:00:00\",\n        \"max\": \"2012-07-01 00:00:00\",\n        \"num_unique_values\": 1,\n        \"samples\": [\n          \"2012-07-01 00:00:00\"\n        ],\n        \"semantic_type\": \"\",\n        \"description\": \"\"\n      }\n    },\n    {\n      \"column\": \"No_Tractors_Sold\",\n      \"properties\": {\n        \"dtype\": \"number\",\n        \"std\": null,\n        \"min\": 687,\n        \"max\": 687,\n        \"num_unique_values\": 1,\n        \"samples\": [\n          687\n        ],\n        \"semantic_type\": \"\",\n        \"description\": \"\"\n      }\n    }\n  ]\n}"
            }
          },
          "metadata": {},
          "execution_count": 40
        }
      ]
    },
    {
      "cell_type": "code",
      "source": [
        "# GRU"
      ],
      "metadata": {
        "id": "5D0cA6U7tjza"
      },
      "execution_count": 41,
      "outputs": []
    },
    {
      "cell_type": "code",
      "source": [
        "# Define the GRU model\n",
        "model = Sequential([\n",
        "    GRU(50, activation='relu', input_shape=(seq_length, 1)),\n",
        "    Dense(1)\n",
        "])\n",
        "\n",
        "# Compile the model\n",
        "model.compile(optimizer='adam', loss='mse')\n",
        "\n",
        "# Train the model\n",
        "model.fit(X_train, y_train, epochs=100, batch_size=32, verbose=2)\n",
        "\n",
        "# Evaluate the model\n",
        "loss = model.evaluate(X_test, y_test, verbose=0)\n",
        "print('Test Loss:', loss)\n",
        "\n",
        "# Make predictions\n",
        "predicted_test = model.predict(X_test)\n",
        "predicted_train=model.predict(X_train)"
      ],
      "metadata": {
        "colab": {
          "base_uri": "https://localhost:8080/"
        },
        "id": "pmsO-yHr7W1K",
        "outputId": "c78e6b86-c9ae-4091-9c02-229abfcda759"
      },
      "execution_count": 44,
      "outputs": [
        {
          "output_type": "stream",
          "name": "stdout",
          "text": [
            "Epoch 1/100\n",
            "4/4 - 2s - loss: 0.3086 - 2s/epoch - 459ms/step\n",
            "Epoch 2/100\n",
            "4/4 - 0s - loss: 0.2587 - 47ms/epoch - 12ms/step\n",
            "Epoch 3/100\n",
            "4/4 - 0s - loss: 0.2163 - 45ms/epoch - 11ms/step\n",
            "Epoch 4/100\n",
            "4/4 - 0s - loss: 0.1761 - 44ms/epoch - 11ms/step\n",
            "Epoch 5/100\n",
            "4/4 - 0s - loss: 0.1454 - 53ms/epoch - 13ms/step\n",
            "Epoch 6/100\n",
            "4/4 - 0s - loss: 0.1164 - 43ms/epoch - 11ms/step\n",
            "Epoch 7/100\n",
            "4/4 - 0s - loss: 0.0920 - 51ms/epoch - 13ms/step\n",
            "Epoch 8/100\n",
            "4/4 - 0s - loss: 0.0702 - 43ms/epoch - 11ms/step\n",
            "Epoch 9/100\n",
            "4/4 - 0s - loss: 0.0542 - 53ms/epoch - 13ms/step\n",
            "Epoch 10/100\n",
            "4/4 - 0s - loss: 0.0425 - 43ms/epoch - 11ms/step\n",
            "Epoch 11/100\n",
            "4/4 - 0s - loss: 0.0339 - 49ms/epoch - 12ms/step\n",
            "Epoch 12/100\n",
            "4/4 - 0s - loss: 0.0309 - 46ms/epoch - 11ms/step\n",
            "Epoch 13/100\n",
            "4/4 - 0s - loss: 0.0315 - 42ms/epoch - 10ms/step\n",
            "Epoch 14/100\n",
            "4/4 - 0s - loss: 0.0312 - 42ms/epoch - 10ms/step\n",
            "Epoch 15/100\n",
            "4/4 - 0s - loss: 0.0295 - 43ms/epoch - 11ms/step\n",
            "Epoch 16/100\n",
            "4/4 - 0s - loss: 0.0272 - 41ms/epoch - 10ms/step\n",
            "Epoch 17/100\n",
            "4/4 - 0s - loss: 0.0249 - 41ms/epoch - 10ms/step\n",
            "Epoch 18/100\n",
            "4/4 - 0s - loss: 0.0231 - 41ms/epoch - 10ms/step\n",
            "Epoch 19/100\n",
            "4/4 - 0s - loss: 0.0219 - 42ms/epoch - 11ms/step\n",
            "Epoch 20/100\n",
            "4/4 - 0s - loss: 0.0205 - 46ms/epoch - 11ms/step\n",
            "Epoch 21/100\n",
            "4/4 - 0s - loss: 0.0187 - 47ms/epoch - 12ms/step\n",
            "Epoch 22/100\n",
            "4/4 - 0s - loss: 0.0165 - 49ms/epoch - 12ms/step\n",
            "Epoch 23/100\n",
            "4/4 - 0s - loss: 0.0151 - 48ms/epoch - 12ms/step\n",
            "Epoch 24/100\n",
            "4/4 - 0s - loss: 0.0148 - 47ms/epoch - 12ms/step\n",
            "Epoch 25/100\n",
            "4/4 - 0s - loss: 0.0137 - 46ms/epoch - 11ms/step\n",
            "Epoch 26/100\n",
            "4/4 - 0s - loss: 0.0131 - 48ms/epoch - 12ms/step\n",
            "Epoch 27/100\n",
            "4/4 - 0s - loss: 0.0129 - 52ms/epoch - 13ms/step\n",
            "Epoch 28/100\n",
            "4/4 - 0s - loss: 0.0122 - 50ms/epoch - 12ms/step\n",
            "Epoch 29/100\n",
            "4/4 - 0s - loss: 0.0122 - 43ms/epoch - 11ms/step\n",
            "Epoch 30/100\n",
            "4/4 - 0s - loss: 0.0120 - 42ms/epoch - 11ms/step\n",
            "Epoch 31/100\n",
            "4/4 - 0s - loss: 0.0118 - 47ms/epoch - 12ms/step\n",
            "Epoch 32/100\n",
            "4/4 - 0s - loss: 0.0116 - 50ms/epoch - 12ms/step\n",
            "Epoch 33/100\n",
            "4/4 - 0s - loss: 0.0114 - 57ms/epoch - 14ms/step\n",
            "Epoch 34/100\n",
            "4/4 - 0s - loss: 0.0112 - 50ms/epoch - 12ms/step\n",
            "Epoch 35/100\n",
            "4/4 - 0s - loss: 0.0113 - 44ms/epoch - 11ms/step\n",
            "Epoch 36/100\n",
            "4/4 - 0s - loss: 0.0113 - 43ms/epoch - 11ms/step\n",
            "Epoch 37/100\n",
            "4/4 - 0s - loss: 0.0111 - 54ms/epoch - 13ms/step\n",
            "Epoch 38/100\n",
            "4/4 - 0s - loss: 0.0109 - 48ms/epoch - 12ms/step\n",
            "Epoch 39/100\n",
            "4/4 - 0s - loss: 0.0109 - 43ms/epoch - 11ms/step\n",
            "Epoch 40/100\n",
            "4/4 - 0s - loss: 0.0109 - 45ms/epoch - 11ms/step\n",
            "Epoch 41/100\n",
            "4/4 - 0s - loss: 0.0107 - 43ms/epoch - 11ms/step\n",
            "Epoch 42/100\n",
            "4/4 - 0s - loss: 0.0106 - 48ms/epoch - 12ms/step\n",
            "Epoch 43/100\n",
            "4/4 - 0s - loss: 0.0106 - 52ms/epoch - 13ms/step\n",
            "Epoch 44/100\n",
            "4/4 - 0s - loss: 0.0104 - 57ms/epoch - 14ms/step\n",
            "Epoch 45/100\n",
            "4/4 - 0s - loss: 0.0104 - 30ms/epoch - 7ms/step\n",
            "Epoch 46/100\n",
            "4/4 - 0s - loss: 0.0103 - 32ms/epoch - 8ms/step\n",
            "Epoch 47/100\n",
            "4/4 - 0s - loss: 0.0102 - 31ms/epoch - 8ms/step\n",
            "Epoch 48/100\n",
            "4/4 - 0s - loss: 0.0102 - 42ms/epoch - 11ms/step\n",
            "Epoch 49/100\n",
            "4/4 - 0s - loss: 0.0101 - 34ms/epoch - 8ms/step\n",
            "Epoch 50/100\n",
            "4/4 - 0s - loss: 0.0100 - 38ms/epoch - 10ms/step\n",
            "Epoch 51/100\n",
            "4/4 - 0s - loss: 0.0099 - 35ms/epoch - 9ms/step\n",
            "Epoch 52/100\n",
            "4/4 - 0s - loss: 0.0098 - 37ms/epoch - 9ms/step\n",
            "Epoch 53/100\n",
            "4/4 - 0s - loss: 0.0097 - 33ms/epoch - 8ms/step\n",
            "Epoch 54/100\n",
            "4/4 - 0s - loss: 0.0097 - 32ms/epoch - 8ms/step\n",
            "Epoch 55/100\n",
            "4/4 - 0s - loss: 0.0096 - 33ms/epoch - 8ms/step\n",
            "Epoch 56/100\n",
            "4/4 - 0s - loss: 0.0096 - 34ms/epoch - 9ms/step\n",
            "Epoch 57/100\n",
            "4/4 - 0s - loss: 0.0095 - 33ms/epoch - 8ms/step\n",
            "Epoch 58/100\n",
            "4/4 - 0s - loss: 0.0094 - 33ms/epoch - 8ms/step\n",
            "Epoch 59/100\n",
            "4/4 - 0s - loss: 0.0094 - 35ms/epoch - 9ms/step\n",
            "Epoch 60/100\n",
            "4/4 - 0s - loss: 0.0093 - 31ms/epoch - 8ms/step\n",
            "Epoch 61/100\n",
            "4/4 - 0s - loss: 0.0092 - 31ms/epoch - 8ms/step\n",
            "Epoch 62/100\n",
            "4/4 - 0s - loss: 0.0091 - 28ms/epoch - 7ms/step\n",
            "Epoch 63/100\n",
            "4/4 - 0s - loss: 0.0091 - 30ms/epoch - 8ms/step\n",
            "Epoch 64/100\n",
            "4/4 - 0s - loss: 0.0090 - 27ms/epoch - 7ms/step\n",
            "Epoch 65/100\n",
            "4/4 - 0s - loss: 0.0089 - 28ms/epoch - 7ms/step\n",
            "Epoch 66/100\n",
            "4/4 - 0s - loss: 0.0090 - 27ms/epoch - 7ms/step\n",
            "Epoch 67/100\n",
            "4/4 - 0s - loss: 0.0091 - 29ms/epoch - 7ms/step\n",
            "Epoch 68/100\n",
            "4/4 - 0s - loss: 0.0089 - 31ms/epoch - 8ms/step\n",
            "Epoch 69/100\n",
            "4/4 - 0s - loss: 0.0087 - 28ms/epoch - 7ms/step\n",
            "Epoch 70/100\n",
            "4/4 - 0s - loss: 0.0087 - 33ms/epoch - 8ms/step\n",
            "Epoch 71/100\n",
            "4/4 - 0s - loss: 0.0086 - 29ms/epoch - 7ms/step\n",
            "Epoch 72/100\n",
            "4/4 - 0s - loss: 0.0085 - 29ms/epoch - 7ms/step\n",
            "Epoch 73/100\n",
            "4/4 - 0s - loss: 0.0084 - 28ms/epoch - 7ms/step\n",
            "Epoch 74/100\n",
            "4/4 - 0s - loss: 0.0084 - 30ms/epoch - 7ms/step\n",
            "Epoch 75/100\n",
            "4/4 - 0s - loss: 0.0083 - 29ms/epoch - 7ms/step\n",
            "Epoch 76/100\n",
            "4/4 - 0s - loss: 0.0083 - 28ms/epoch - 7ms/step\n",
            "Epoch 77/100\n",
            "4/4 - 0s - loss: 0.0083 - 31ms/epoch - 8ms/step\n",
            "Epoch 78/100\n",
            "4/4 - 0s - loss: 0.0082 - 37ms/epoch - 9ms/step\n",
            "Epoch 79/100\n",
            "4/4 - 0s - loss: 0.0082 - 29ms/epoch - 7ms/step\n",
            "Epoch 80/100\n",
            "4/4 - 0s - loss: 0.0081 - 29ms/epoch - 7ms/step\n",
            "Epoch 81/100\n",
            "4/4 - 0s - loss: 0.0080 - 35ms/epoch - 9ms/step\n",
            "Epoch 82/100\n",
            "4/4 - 0s - loss: 0.0079 - 32ms/epoch - 8ms/step\n",
            "Epoch 83/100\n",
            "4/4 - 0s - loss: 0.0079 - 31ms/epoch - 8ms/step\n",
            "Epoch 84/100\n",
            "4/4 - 0s - loss: 0.0077 - 30ms/epoch - 8ms/step\n",
            "Epoch 85/100\n",
            "4/4 - 0s - loss: 0.0078 - 31ms/epoch - 8ms/step\n",
            "Epoch 86/100\n",
            "4/4 - 0s - loss: 0.0079 - 28ms/epoch - 7ms/step\n",
            "Epoch 87/100\n",
            "4/4 - 0s - loss: 0.0077 - 28ms/epoch - 7ms/step\n",
            "Epoch 88/100\n",
            "4/4 - 0s - loss: 0.0078 - 28ms/epoch - 7ms/step\n",
            "Epoch 89/100\n",
            "4/4 - 0s - loss: 0.0076 - 26ms/epoch - 7ms/step\n",
            "Epoch 90/100\n",
            "4/4 - 0s - loss: 0.0075 - 28ms/epoch - 7ms/step\n",
            "Epoch 91/100\n",
            "4/4 - 0s - loss: 0.0076 - 30ms/epoch - 8ms/step\n",
            "Epoch 92/100\n",
            "4/4 - 0s - loss: 0.0074 - 27ms/epoch - 7ms/step\n",
            "Epoch 93/100\n",
            "4/4 - 0s - loss: 0.0073 - 31ms/epoch - 8ms/step\n",
            "Epoch 94/100\n",
            "4/4 - 0s - loss: 0.0076 - 29ms/epoch - 7ms/step\n",
            "Epoch 95/100\n",
            "4/4 - 0s - loss: 0.0072 - 30ms/epoch - 8ms/step\n",
            "Epoch 96/100\n",
            "4/4 - 0s - loss: 0.0073 - 31ms/epoch - 8ms/step\n",
            "Epoch 97/100\n",
            "4/4 - 0s - loss: 0.0072 - 28ms/epoch - 7ms/step\n",
            "Epoch 98/100\n",
            "4/4 - 0s - loss: 0.0072 - 29ms/epoch - 7ms/step\n",
            "Epoch 99/100\n",
            "4/4 - 0s - loss: 0.0072 - 28ms/epoch - 7ms/step\n",
            "Epoch 100/100\n",
            "4/4 - 0s - loss: 0.0071 - 30ms/epoch - 8ms/step\n",
            "Test Loss: 0.00416764710098505\n",
            "1/1 [==============================] - 0s 191ms/step\n",
            "4/4 [==============================] - 0s 4ms/step\n"
          ]
        }
      ]
    },
    {
      "cell_type": "code",
      "source": [
        "# Inverse scaling\n",
        "train_predictions = scaler.inverse_transform(predicted_train.reshape(-1, 1)).flatten()\n",
        "y_train_inv = scaler.inverse_transform(y_train).flatten()\n",
        "test_predictions = scaler.inverse_transform(predicted_test.reshape(-1, 1)).flatten()\n",
        "y_test_inv = scaler.inverse_transform(y_test).flatten()"
      ],
      "metadata": {
        "id": "NsFy8rds8LSJ"
      },
      "execution_count": 45,
      "outputs": []
    },
    {
      "cell_type": "code",
      "source": [
        "from sklearn.metrics import mean_squared_error\n",
        "from sklearn.metrics import mean_absolute_error\n",
        "\n",
        "# Calculate RMSE\n",
        "train_rmse = np.sqrt(mean_squared_error(y_train_inv, train_predictions))\n",
        "test_rmse = np.sqrt(mean_squared_error(y_test_inv, test_predictions))"
      ],
      "metadata": {
        "id": "NcnBkh_38NlG"
      },
      "execution_count": 46,
      "outputs": []
    },
    {
      "cell_type": "code",
      "source": [
        "train_rmse"
      ],
      "metadata": {
        "colab": {
          "base_uri": "https://localhost:8080/"
        },
        "id": "qMsuIEll9Jgd",
        "outputId": "54537de5-da77-4b75-aeec-a00a0ac39c53"
      },
      "execution_count": 47,
      "outputs": [
        {
          "output_type": "execute_result",
          "data": {
            "text/plain": [
              "61.60027325819361"
            ]
          },
          "metadata": {},
          "execution_count": 47
        }
      ]
    },
    {
      "cell_type": "code",
      "source": [
        "test_rmse"
      ],
      "metadata": {
        "colab": {
          "base_uri": "https://localhost:8080/"
        },
        "id": "FvMziLgu9LZr",
        "outputId": "0e1b8d46-8cce-4caa-bea5-18891b748dda"
      },
      "execution_count": 48,
      "outputs": [
        {
          "output_type": "execute_result",
          "data": {
            "text/plain": [
              "47.32051696133645"
            ]
          },
          "metadata": {},
          "execution_count": 48
        }
      ]
    },
    {
      "cell_type": "code",
      "source": [
        "# Calculate MAPE for test set\n",
        "test_mape = mean_absolute_percentage_error(y_test_inv, test_predictions)\n",
        "print(\"Test MAPE:\", test_mape)"
      ],
      "metadata": {
        "colab": {
          "base_uri": "https://localhost:8080/"
        },
        "id": "kEP-yIpp9NOI",
        "outputId": "4e66a86c-69ff-4b2b-b4a5-67933bc45787"
      },
      "execution_count": 49,
      "outputs": [
        {
          "output_type": "stream",
          "name": "stdout",
          "text": [
            "Test MAPE: 12.297647446121273\n"
          ]
        }
      ]
    },
    {
      "cell_type": "code",
      "source": [
        "# Calculate MAPE for train set\n",
        "test_mape = mean_absolute_percentage_error(y_train_inv, train_predictions)\n",
        "print(\"Train MAPE:\", test_mape)"
      ],
      "metadata": {
        "colab": {
          "base_uri": "https://localhost:8080/"
        },
        "id": "BVqoPM5E9tBa",
        "outputId": "3c84ae15-5478-4c0d-bde6-418d47f45a5a"
      },
      "execution_count": 50,
      "outputs": [
        {
          "output_type": "stream",
          "name": "stdout",
          "text": [
            "Train MAPE: 11.577977855026045\n"
          ]
        }
      ]
    },
    {
      "cell_type": "code",
      "source": [
        "# gru performs better than LSTM RNN"
      ],
      "metadata": {
        "id": "ppzQLYDs908x"
      },
      "execution_count": 53,
      "outputs": []
    },
    {
      "cell_type": "code",
      "source": [
        "# in GRU and LSTM we split the data into trainx,trainy,testx,testy but in SARIMA,holt's winter we split into\n",
        "# only train and test data"
      ],
      "metadata": {
        "id": "fA3v-fUF-7vH"
      },
      "execution_count": 52,
      "outputs": []
    },
    {
      "cell_type": "code",
      "source": [
        "#END"
      ],
      "metadata": {
        "id": "vYs8JBIO_X2r"
      },
      "execution_count": null,
      "outputs": []
    }
  ]
}